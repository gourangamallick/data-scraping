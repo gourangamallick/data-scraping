{
 "cells": [
  {
   "cell_type": "markdown",
   "metadata": {},
   "source": [
    "# 1. Scraping Zomato Website"
   ]
  },
  {
   "cell_type": "code",
   "execution_count": null,
   "metadata": {},
   "outputs": [],
   "source": [
    "#Importing packages \n",
    "import pandas as pd\n",
    "import selenium\n",
    "from selenium import webdriver\n",
    "import time"
   ]
  },
  {
   "cell_type": "code",
   "execution_count": null,
   "metadata": {},
   "outputs": [],
   "source": [
    "#download chromedriver.exe and save it in your current directory\n",
    "browser = webdriver.Chrome(\"chromedriver.exe\")\n",
    "browser.get('https://www.zomato.com/bangalore/great-food-no-bull')"
   ]
  },
  {
   "cell_type": "code",
   "execution_count": null,
   "metadata": {},
   "outputs": [],
   "source": [
    "df_1 = pd.DataFrame(columns=['Restaurant Name','URL to the restaurant'])"
   ]
  },
  {
   "cell_type": "code",
   "execution_count": null,
   "metadata": {},
   "outputs": [],
   "source": [
    "parent_tag = browser.find_elements_by_css_selector('div.h100.pb20')\n",
    "len(parent_tag)"
   ]
  },
  {
   "cell_type": "code",
   "execution_count": null,
   "metadata": {},
   "outputs": [],
   "source": [
    "#Function defination that will return 1st dataframe\n",
    "def get_url(parent_tag):\n",
    "    df_1 = pd.DataFrame(columns=['Restaurant Name','URL to the restaurant'])\n",
    "    for each_restaurment in parent_tag:\n",
    "        try:\n",
    "            restaurant_name = each_restaurment.find_element_by_css_selector('div.res_title.zblack.bold.nowrap'). \\\n",
    "                              get_attribute('innerHTML').split('\\n')[1]\n",
    "        except:\n",
    "            restaurant_name = each_restaurment.find_element_by_css_selector('div.res_title.zblack.bold'). \\\n",
    "                              get_attribute('innerHTML').split('\\n')[1]\n",
    "\n",
    "        URL = each_restaurment.find_element_by_css_selector('a').get_attribute('href')\n",
    "        \n",
    "        curr_row = {'Restaurant Name':restaurant_name,\n",
    "                    'URL to the restaurant':URL}\n",
    "            \n",
    "        df_1=df_1.append(curr_row,ignore_index=True)\n",
    "    return df_1"
   ]
  },
  {
   "cell_type": "code",
   "execution_count": null,
   "metadata": {},
   "outputs": [],
   "source": [
    "#calling the above function that will return a dataframe with all the Restaurant Names and their respective URLs \n",
    "df = get_url(parent_tag)"
   ]
  },
  {
   "cell_type": "code",
   "execution_count": null,
   "metadata": {},
   "outputs": [],
   "source": [
    "df.head()"
   ]
  },
  {
   "cell_type": "code",
   "execution_count": null,
   "metadata": {},
   "outputs": [],
   "source": [
    "#Function defination that will return final dataframe\n",
    "def get_ratings(data):\n",
    "    df_2 = pd.DataFrame(columns=['Restaurant Name','Restaurant ID','User Name','User ID','Rating'])\n",
    "    df_3 = pd.DataFrame(columns=['Restaurant Name','URL to the restaurant'])\n",
    "    for each_row in data.values:\n",
    "        browser.get(each_row[1])\n",
    "        \n",
    "        if len(browser.find_elements_by_css_selector('div.ui.segments.res-review-body.res-review.clearfix.js-activity-root.mbti.item-to-hide-parent.stupendousact'))!=0:\n",
    "            try:\n",
    "                while(browser.find_element_by_css_selector('div.load-more.bold.ttupper.tac.cursor-pointer.fontsize2')!=None):\n",
    "                    browser.find_element_by_css_selector('div.load-more.bold.ttupper.tac.cursor-pointer.fontsize2').click()\n",
    "                    time.sleep(3)\n",
    "            except:\n",
    "                res_ID = browser.find_element_by_css_selector('div.res-rating.pos-relative.clearfix.mb5').find_element_by_css_selector('div[data-res-id]').get_attribute('data-res-id')\n",
    "                res_name = each_row[0]+','+browser.find_element_by_css_selector('div.mb5.pt5.clear').find_element_by_css_selector('a').get_attribute('innerText')\n",
    "                users = browser.find_elements_by_css_selector('div.ui.segments.res-review-body.res-review.clearfix.js-activity-root.mbti.item-to-hide-parent.stupendousact')\n",
    "                \n",
    "                for each_user in users:\n",
    "                    user_name = each_user.find_element_by_css_selector('div.header.nowrap.ui.left').get_attribute('innerText')\n",
    "                    rate = each_user.find_element_by_css_selector('div[aria-label]').get_attribute('aria-label').split(' ')[1]\n",
    "                    user_ID = each_user.find_element_by_css_selector('a[data-entity_id]').get_attribute('data-entity_id')\n",
    "                    curr_row = [{'Restaurant Name':res_name,'Restaurant ID':res_ID,'User Name':user_name,'User ID':user_ID,'Rating':rate}]\n",
    "                    df_2 = df_2.append(curr_row,ignore_index = True)\n",
    "        else:\n",
    "            res_name = each_row[0]\n",
    "            URL_branch = browser.find_elements_by_css_selector('div.card.search-snippet-card.search-card')\n",
    "            for url in URL_branch:\n",
    "                branch_url = url.find_element_by_css_selector('a.result-title.hover_feedback.zred.bold.ln24.fontsize0').get_attribute('href')\n",
    "                curr_row = [{'Restaurant Name':res_name,'URL to the restaurant':branch_url}]\n",
    "                df_3 = df_3.append(curr_row, ignore_index=True)\n",
    "    if not df_3.empty:\n",
    "        return df_2,df_3\n",
    "    else:\n",
    "        return df_2"
   ]
  },
  {
   "cell_type": "code",
   "execution_count": null,
   "metadata": {},
   "outputs": [],
   "source": [
    "#calling the above function that will return all the details related to restaurants(Res Name+location,\n",
    "#Res Id, User Name, User ID, Rating)\n",
    "df_4 = get_ratings(df)"
   ]
  },
  {
   "cell_type": "code",
   "execution_count": null,
   "metadata": {},
   "outputs": [],
   "source": [
    "#calling the above function that will return all the details related to restaurants(Res Name+location,\n",
    "#Res Id, User Name, User ID, Rating)\n",
    "df_4 = get_ratings(df)"
   ]
  },
  {
   "cell_type": "code",
   "execution_count": null,
   "metadata": {},
   "outputs": [],
   "source": [
    "#convert the dataframe into a csv file named 'Zomato_final.csv'\n",
    "try:\n",
    "    df_5 = get_ratings(df_4[1])\n",
    "    df_final = pd.concat([df_4[0],df_5], axis =0, ignore_index = True)\n",
    "    df_final.to_csv('Zomato_final.csv',index = False)\n",
    "except:\n",
    "    df_4.to_csv('Zomato_final.csv',index = False)\n",
    "    "
   ]
  },
  {
   "cell_type": "code",
   "execution_count": null,
   "metadata": {},
   "outputs": [],
   "source": []
  },
  {
   "cell_type": "code",
   "execution_count": null,
   "metadata": {},
   "outputs": [],
   "source": []
  },
  {
   "cell_type": "code",
   "execution_count": null,
   "metadata": {},
   "outputs": [],
   "source": []
  }
 ],
 "metadata": {
  "kernelspec": {
   "display_name": "Python 3",
   "language": "python",
   "name": "python3"
  },
  "language_info": {
   "codemirror_mode": {
    "name": "ipython",
    "version": 3
   },
   "file_extension": ".py",
   "mimetype": "text/x-python",
   "name": "python",
   "nbconvert_exporter": "python",
   "pygments_lexer": "ipython3",
   "version": "3.6.4"
  }
 },
 "nbformat": 4,
 "nbformat_minor": 2
}
